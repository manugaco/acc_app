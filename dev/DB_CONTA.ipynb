{
 "cells": [
  {
   "cell_type": "code",
   "execution_count": 3,
   "metadata": {},
   "outputs": [],
   "source": [
    "import pandas as pd\n",
    "import numpy as np"
   ]
  },
  {
   "cell_type": "code",
   "execution_count": null,
   "metadata": {},
   "outputs": [],
   "source": []
  },
  {
   "cell_type": "code",
   "execution_count": 5,
   "metadata": {},
   "outputs": [
    {
     "data": {
      "text/html": [
       "<div>\n",
       "<style scoped>\n",
       "    .dataframe tbody tr th:only-of-type {\n",
       "        vertical-align: middle;\n",
       "    }\n",
       "\n",
       "    .dataframe tbody tr th {\n",
       "        vertical-align: top;\n",
       "    }\n",
       "\n",
       "    .dataframe thead th {\n",
       "        text-align: right;\n",
       "    }\n",
       "</style>\n",
       "<table border=\"1\" class=\"dataframe\">\n",
       "  <thead>\n",
       "    <tr style=\"text-align: right;\">\n",
       "      <th></th>\n",
       "      <th>0</th>\n",
       "      <th>1</th>\n",
       "      <th>2</th>\n",
       "      <th>3</th>\n",
       "      <th>4</th>\n",
       "      <th>5</th>\n",
       "      <th>6</th>\n",
       "      <th>7</th>\n",
       "      <th>8</th>\n",
       "      <th>9</th>\n",
       "      <th>10</th>\n",
       "      <th>11</th>\n",
       "      <th>12</th>\n",
       "      <th>13</th>\n",
       "    </tr>\n",
       "  </thead>\n",
       "  <tbody>\n",
       "    <tr>\n",
       "      <th>0</th>\n",
       "      <td>P-000000001</td>\n",
       "      <td>DECORACION VINTAGE</td>\n",
       "      <td>S.L.</td>\n",
       "      <td>CALLE FRIDEX CUATRO, NUMERO 2, POLIGONO INDUST...</td>\n",
       "      <td>41500</td>\n",
       "      <td>ALCALÁ DE GUADAIRA</td>\n",
       "      <td>SEVILLA</td>\n",
       "      <td>ANDALUCIA</td>\n",
       "      <td>ESPAÑA</td>\n",
       "      <td>955 514 001</td>\n",
       "      <td>654 334 316</td>\n",
       "      <td></td>\n",
       "      <td>comercial@misterwils.com</td>\n",
       "      <td>www.misterwils.com</td>\n",
       "    </tr>\n",
       "  </tbody>\n",
       "</table>\n",
       "</div>"
      ],
      "text/plain": [
       "            0                   1     2   \\\n",
       "0  P-000000001  DECORACION VINTAGE  S.L.   \n",
       "\n",
       "                                                  3      4   \\\n",
       "0  CALLE FRIDEX CUATRO, NUMERO 2, POLIGONO INDUST...  41500   \n",
       "\n",
       "                   5        6          7       8            9            10  \\\n",
       "0  ALCALÁ DE GUADAIRA  SEVILLA  ANDALUCIA  ESPAÑA  955 514 001  654 334 316   \n",
       "\n",
       "  11                        12                  13  \n",
       "0     comercial@misterwils.com  www.misterwils.com  "
      ]
     },
     "execution_count": 5,
     "metadata": {},
     "output_type": "execute_result"
    }
   ],
   "source": [
    "P1 = pd.DataFrame(['P-000000001', 'DECORACION VINTAGE', 'S.L.', 'CALLE FRIDEX CUATRO, NUMERO 2, POLIGONO INDUSTRIAL FRIDEX AUTOPISTA SEVILLA-MÁLAGA A92 - KM 4,4',\n",
    "                               '41500', 'ALCALÁ DE GUADAIRA', 'SEVILLA', 'ANDALUCIA', 'ESPAÑA', '955 514 001', '654 334 316', '', 'comercial@misterwils.com', 'www.misterwils.com']).transpose()\n",
    "P1"
   ]
  },
  {
   "cell_type": "code",
   "execution_count": 6,
   "metadata": {},
   "outputs": [
    {
     "data": {
      "text/html": [
       "<div>\n",
       "<style scoped>\n",
       "    .dataframe tbody tr th:only-of-type {\n",
       "        vertical-align: middle;\n",
       "    }\n",
       "\n",
       "    .dataframe tbody tr th {\n",
       "        vertical-align: top;\n",
       "    }\n",
       "\n",
       "    .dataframe thead th {\n",
       "        text-align: right;\n",
       "    }\n",
       "</style>\n",
       "<table border=\"1\" class=\"dataframe\">\n",
       "  <thead>\n",
       "    <tr style=\"text-align: right;\">\n",
       "      <th></th>\n",
       "      <th>0</th>\n",
       "      <th>1</th>\n",
       "      <th>2</th>\n",
       "      <th>3</th>\n",
       "      <th>4</th>\n",
       "      <th>5</th>\n",
       "      <th>6</th>\n",
       "      <th>7</th>\n",
       "      <th>8</th>\n",
       "      <th>9</th>\n",
       "      <th>10</th>\n",
       "      <th>11</th>\n",
       "      <th>12</th>\n",
       "      <th>13</th>\n",
       "    </tr>\n",
       "  </thead>\n",
       "  <tbody>\n",
       "    <tr>\n",
       "      <th>0</th>\n",
       "      <td>P-000000002</td>\n",
       "      <td>DECORACION VINTAGE</td>\n",
       "      <td>S.L.</td>\n",
       "      <td>CALLE FRIDEX CUATRO, NUMERO 2, POLIGONO INDUST...</td>\n",
       "      <td>41500</td>\n",
       "      <td>ALCALÁ DE GUADAIRA</td>\n",
       "      <td>SEVILLA</td>\n",
       "      <td>ANDALUCIA</td>\n",
       "      <td>ESPAÑA</td>\n",
       "      <td>955 514 001</td>\n",
       "      <td>654 334 316</td>\n",
       "      <td></td>\n",
       "      <td>comercial@misterwils.com</td>\n",
       "      <td>www.misterwils.com</td>\n",
       "    </tr>\n",
       "  </tbody>\n",
       "</table>\n",
       "</div>"
      ],
      "text/plain": [
       "            0                   1     2   \\\n",
       "0  P-000000002  DECORACION VINTAGE  S.L.   \n",
       "\n",
       "                                                  3      4   \\\n",
       "0  CALLE FRIDEX CUATRO, NUMERO 2, POLIGONO INDUST...  41500   \n",
       "\n",
       "                   5        6          7       8            9            10  \\\n",
       "0  ALCALÁ DE GUADAIRA  SEVILLA  ANDALUCIA  ESPAÑA  955 514 001  654 334 316   \n",
       "\n",
       "  11                        12                  13  \n",
       "0     comercial@misterwils.com  www.misterwils.com  "
      ]
     },
     "execution_count": 6,
     "metadata": {},
     "output_type": "execute_result"
    }
   ],
   "source": [
    "P2 = pd.DataFrame(['P-000000002', 'DECORACION VINTAGE', 'S.L.', 'CALLE FRIDEX CUATRO, NUMERO 2, POLIGONO INDUSTRIAL FRIDEX AUTOPISTA SEVILLA-MÁLAGA A92 - KM 4,4',\n",
    "                               '41500', 'ALCALÁ DE GUADAIRA', 'SEVILLA', 'ANDALUCIA', 'ESPAÑA', '955 514 001', '654 334 316', '', 'comercial@misterwils.com', 'www.misterwils.com']).transpose()\n",
    "P2"
   ]
  },
  {
   "cell_type": "code",
   "execution_count": 7,
   "metadata": {},
   "outputs": [],
   "source": [
    "DB_proveedores = pd.concat([P1, P2], axis=0)\n",
    "DB_proveedores = DB_proveedores.rename(columns = {0:'ID', 1:'Nombre', 2:'Razon_Social', 3:'Direccion', 4:'CP', 5:'Localidad', \n",
    "                                 6:'Provincia', 7:'CCAA', 8:'Pais', 9:'TELF', 10:'MOVIL', 11:'FAX', 12:'EMAIL', 13:'WEB'})"
   ]
  },
  {
   "cell_type": "code",
   "execution_count": 8,
   "metadata": {},
   "outputs": [
    {
     "data": {
      "text/html": [
       "<div>\n",
       "<style scoped>\n",
       "    .dataframe tbody tr th:only-of-type {\n",
       "        vertical-align: middle;\n",
       "    }\n",
       "\n",
       "    .dataframe tbody tr th {\n",
       "        vertical-align: top;\n",
       "    }\n",
       "\n",
       "    .dataframe thead th {\n",
       "        text-align: right;\n",
       "    }\n",
       "</style>\n",
       "<table border=\"1\" class=\"dataframe\">\n",
       "  <thead>\n",
       "    <tr style=\"text-align: right;\">\n",
       "      <th></th>\n",
       "      <th>ID</th>\n",
       "      <th>Nombre</th>\n",
       "      <th>Razon_Social</th>\n",
       "      <th>Direccion</th>\n",
       "      <th>CP</th>\n",
       "      <th>Localidad</th>\n",
       "      <th>Provincia</th>\n",
       "      <th>CCAA</th>\n",
       "      <th>Pais</th>\n",
       "      <th>TELF</th>\n",
       "      <th>MOVIL</th>\n",
       "      <th>FAX</th>\n",
       "      <th>EMAIL</th>\n",
       "      <th>WEB</th>\n",
       "    </tr>\n",
       "  </thead>\n",
       "  <tbody>\n",
       "    <tr>\n",
       "      <th>0</th>\n",
       "      <td>P-000000001</td>\n",
       "      <td>DECORACION VINTAGE</td>\n",
       "      <td>S.L.</td>\n",
       "      <td>CALLE FRIDEX CUATRO, NUMERO 2, POLIGONO INDUST...</td>\n",
       "      <td>41500</td>\n",
       "      <td>ALCALÁ DE GUADAIRA</td>\n",
       "      <td>SEVILLA</td>\n",
       "      <td>ANDALUCIA</td>\n",
       "      <td>ESPAÑA</td>\n",
       "      <td>955 514 001</td>\n",
       "      <td>654 334 316</td>\n",
       "      <td></td>\n",
       "      <td>comercial@misterwils.com</td>\n",
       "      <td>www.misterwils.com</td>\n",
       "    </tr>\n",
       "    <tr>\n",
       "      <th>0</th>\n",
       "      <td>P-000000002</td>\n",
       "      <td>DECORACION VINTAGE</td>\n",
       "      <td>S.L.</td>\n",
       "      <td>CALLE FRIDEX CUATRO, NUMERO 2, POLIGONO INDUST...</td>\n",
       "      <td>41500</td>\n",
       "      <td>ALCALÁ DE GUADAIRA</td>\n",
       "      <td>SEVILLA</td>\n",
       "      <td>ANDALUCIA</td>\n",
       "      <td>ESPAÑA</td>\n",
       "      <td>955 514 001</td>\n",
       "      <td>654 334 316</td>\n",
       "      <td></td>\n",
       "      <td>comercial@misterwils.com</td>\n",
       "      <td>www.misterwils.com</td>\n",
       "    </tr>\n",
       "  </tbody>\n",
       "</table>\n",
       "</div>"
      ],
      "text/plain": [
       "            ID              Nombre Razon_Social  \\\n",
       "0  P-000000001  DECORACION VINTAGE         S.L.   \n",
       "0  P-000000002  DECORACION VINTAGE         S.L.   \n",
       "\n",
       "                                           Direccion     CP  \\\n",
       "0  CALLE FRIDEX CUATRO, NUMERO 2, POLIGONO INDUST...  41500   \n",
       "0  CALLE FRIDEX CUATRO, NUMERO 2, POLIGONO INDUST...  41500   \n",
       "\n",
       "            Localidad Provincia       CCAA    Pais         TELF        MOVIL  \\\n",
       "0  ALCALÁ DE GUADAIRA   SEVILLA  ANDALUCIA  ESPAÑA  955 514 001  654 334 316   \n",
       "0  ALCALÁ DE GUADAIRA   SEVILLA  ANDALUCIA  ESPAÑA  955 514 001  654 334 316   \n",
       "\n",
       "  FAX                     EMAIL                 WEB  \n",
       "0      comercial@misterwils.com  www.misterwils.com  \n",
       "0      comercial@misterwils.com  www.misterwils.com  "
      ]
     },
     "execution_count": 8,
     "metadata": {},
     "output_type": "execute_result"
    }
   ],
   "source": [
    "DB_proveedores"
   ]
  },
  {
   "cell_type": "code",
   "execution_count": 48,
   "metadata": {},
   "outputs": [],
   "source": [
    "def nuevo_id(inp, tipo):\n",
    "    \n",
    "    if(tipo[0]==inp['ID'][0:1][0][0].lower()):\n",
    "    \n",
    "        if(tipo=='cliente'):\n",
    "\n",
    "            c_n = int(inp['ID'].tail(1)[0].split('-')[1].lstrip('0'))+1\n",
    "            c_n = str(str(c_n).zfill(9))\n",
    "            output = 'C-' + c_n\n",
    "\n",
    "        elif(tipo=='proveedor'):\n",
    "\n",
    "            c_n = int(inp['ID'].tail(1)[0].split('-')[1].lstrip('0'))+1\n",
    "            c_n = str(str(c_n).zfill(9))\n",
    "            output = 'P-' + c_n\n",
    "            \n",
    "        return(output)\n",
    "    \n",
    "    else:\n",
    "        \n",
    "        print('ERROR: La tabla de entrada y el tipo seleccionado no son compatibles.')\n",
    "        \n",
    "    "
   ]
  },
  {
   "cell_type": "code",
   "execution_count": 50,
   "metadata": {},
   "outputs": [
    {
     "data": {
      "text/plain": [
       "'P-000000003'"
      ]
     },
     "execution_count": 50,
     "metadata": {},
     "output_type": "execute_result"
    }
   ],
   "source": []
  },
  {
   "cell_type": "code",
   "execution_count": null,
   "metadata": {},
   "outputs": [],
   "source": [
    "def nuevo_proveedor(inp, info):\n",
    "    \n",
    "    id_new = nuevo_id(inp, tipo='proveedor')\n",
    "    values = id_new + info\n",
    "    \n",
    "    \n",
    "    return(output)"
   ]
  },
  {
   "cell_type": "code",
   "execution_count": 52,
   "metadata": {},
   "outputs": [
    {
     "data": {
      "text/plain": [
       "['DECORACION VINTAGE',\n",
       " 'S.L.',\n",
       " 'CALLE FRIDEX CUATRO, NUMERO 2, POLIGONO INDUSTRIAL FRIDEX AUTOPISTA SEVILLA-MÁLAGA A92 - KM 4,4',\n",
       " '41500',\n",
       " 'ALCALÁ DE GUADAIRA',\n",
       " 'SEVILLA',\n",
       " 'ANDALUCIA',\n",
       " 'ESPAÑA',\n",
       " '955 514 001',\n",
       " '654 334 316',\n",
       " '',\n",
       " 'comercial@misterwils.com',\n",
       " 'www.misterwils.com']"
      ]
     },
     "execution_count": 52,
     "metadata": {},
     "output_type": "execute_result"
    }
   ],
   "source": [
    " ['DECORACION VINTAGE', 'S.L.', 'CALLE FRIDEX CUATRO, NUMERO 2, POLIGONO INDUSTRIAL FRIDEX AUTOPISTA SEVILLA-MÁLAGA A92 - KM 4,4', '41500', 'ALCALÁ DE GUADAIRA', 'SEVILLA', 'ANDALUCIA', 'ESPAÑA', '955 514 001', '654 334 316', '', 'comercial@misterwils.com', 'www.misterwils.com']"
   ]
  },
  {
   "cell_type": "code",
   "execution_count": 51,
   "metadata": {},
   "outputs": [
    {
     "data": {
      "text/html": [
       "<div>\n",
       "<style scoped>\n",
       "    .dataframe tbody tr th:only-of-type {\n",
       "        vertical-align: middle;\n",
       "    }\n",
       "\n",
       "    .dataframe tbody tr th {\n",
       "        vertical-align: top;\n",
       "    }\n",
       "\n",
       "    .dataframe thead th {\n",
       "        text-align: right;\n",
       "    }\n",
       "</style>\n",
       "<table border=\"1\" class=\"dataframe\">\n",
       "  <thead>\n",
       "    <tr style=\"text-align: right;\">\n",
       "      <th></th>\n",
       "      <th>ID</th>\n",
       "      <th>Nombre</th>\n",
       "      <th>Razon_Social</th>\n",
       "      <th>Direccion</th>\n",
       "      <th>CP</th>\n",
       "      <th>Localidad</th>\n",
       "      <th>Provincia</th>\n",
       "      <th>CCAA</th>\n",
       "      <th>Pais</th>\n",
       "      <th>TELF</th>\n",
       "      <th>MOVIL</th>\n",
       "      <th>FAX</th>\n",
       "      <th>EMAIL</th>\n",
       "      <th>WEB</th>\n",
       "    </tr>\n",
       "  </thead>\n",
       "  <tbody>\n",
       "    <tr>\n",
       "      <th>0</th>\n",
       "      <td>P-000000001</td>\n",
       "      <td>DECORACION VINTAGE</td>\n",
       "      <td>S.L.</td>\n",
       "      <td>CALLE FRIDEX CUATRO, NUMERO 2, POLIGONO INDUST...</td>\n",
       "      <td>41500</td>\n",
       "      <td>ALCALÁ DE GUADAIRA</td>\n",
       "      <td>SEVILLA</td>\n",
       "      <td>ANDALUCIA</td>\n",
       "      <td>ESPAÑA</td>\n",
       "      <td>955 514 001</td>\n",
       "      <td>654 334 316</td>\n",
       "      <td></td>\n",
       "      <td>comercial@misterwils.com</td>\n",
       "      <td>www.misterwils.com</td>\n",
       "    </tr>\n",
       "    <tr>\n",
       "      <th>0</th>\n",
       "      <td>P-000000002</td>\n",
       "      <td>DECORACION VINTAGE</td>\n",
       "      <td>S.L.</td>\n",
       "      <td>CALLE FRIDEX CUATRO, NUMERO 2, POLIGONO INDUST...</td>\n",
       "      <td>41500</td>\n",
       "      <td>ALCALÁ DE GUADAIRA</td>\n",
       "      <td>SEVILLA</td>\n",
       "      <td>ANDALUCIA</td>\n",
       "      <td>ESPAÑA</td>\n",
       "      <td>955 514 001</td>\n",
       "      <td>654 334 316</td>\n",
       "      <td></td>\n",
       "      <td>comercial@misterwils.com</td>\n",
       "      <td>www.misterwils.com</td>\n",
       "    </tr>\n",
       "  </tbody>\n",
       "</table>\n",
       "</div>"
      ],
      "text/plain": [
       "            ID              Nombre Razon_Social  \\\n",
       "0  P-000000001  DECORACION VINTAGE         S.L.   \n",
       "0  P-000000002  DECORACION VINTAGE         S.L.   \n",
       "\n",
       "                                           Direccion     CP  \\\n",
       "0  CALLE FRIDEX CUATRO, NUMERO 2, POLIGONO INDUST...  41500   \n",
       "0  CALLE FRIDEX CUATRO, NUMERO 2, POLIGONO INDUST...  41500   \n",
       "\n",
       "            Localidad Provincia       CCAA    Pais         TELF        MOVIL  \\\n",
       "0  ALCALÁ DE GUADAIRA   SEVILLA  ANDALUCIA  ESPAÑA  955 514 001  654 334 316   \n",
       "0  ALCALÁ DE GUADAIRA   SEVILLA  ANDALUCIA  ESPAÑA  955 514 001  654 334 316   \n",
       "\n",
       "  FAX                     EMAIL                 WEB  \n",
       "0      comercial@misterwils.com  www.misterwils.com  \n",
       "0      comercial@misterwils.com  www.misterwils.com  "
      ]
     },
     "execution_count": 51,
     "metadata": {},
     "output_type": "execute_result"
    }
   ],
   "source": [
    "nombres_c = DB_proveedores.columns\n",
    "\n",
    "\n",
    "\n",
    "pd.concat([DB_proveedores, "
   ]
  },
  {
   "cell_type": "code",
   "execution_count": null,
   "metadata": {},
   "outputs": [],
   "source": []
  },
  {
   "cell_type": "code",
   "execution_count": null,
   "metadata": {},
   "outputs": [],
   "source": []
  },
  {
   "cell_type": "code",
   "execution_count": null,
   "metadata": {},
   "outputs": [],
   "source": []
  },
  {
   "cell_type": "code",
   "execution_count": null,
   "metadata": {},
   "outputs": [],
   "source": []
  },
  {
   "cell_type": "code",
   "execution_count": null,
   "metadata": {},
   "outputs": [],
   "source": []
  }
 ],
 "metadata": {
  "kernelspec": {
   "display_name": "Python 3",
   "language": "python",
   "name": "python3"
  },
  "language_info": {
   "codemirror_mode": {
    "name": "ipython",
    "version": 3
   },
   "file_extension": ".py",
   "mimetype": "text/x-python",
   "name": "python",
   "nbconvert_exporter": "python",
   "pygments_lexer": "ipython3",
   "version": "3.7.6"
  }
 },
 "nbformat": 4,
 "nbformat_minor": 4
}
