{
 "cells": [
  {
   "cell_type": "code",
   "execution_count": null,
   "metadata": {},
   "outputs": [],
   "source": [
    "%run P00_LIBRERIAS.ipynb"
   ]
  },
  {
   "cell_type": "code",
   "execution_count": null,
   "metadata": {},
   "outputs": [],
   "source": [
    "%run P00_FUNCIONES.ipynb"
   ]
  },
  {
   "cell_type": "code",
   "execution_count": null,
   "metadata": {},
   "outputs": [],
   "source": [
    "root = Tk()\n",
    "\n",
    "root.title(\"AUTOCONTA_TACCOUNTANT\") \n",
    "root.geometry(\"800x400\") \n",
    "menubar = Menu(root)\n",
    "root.config(menu=menubar)\n",
    "\n",
    "filemenu = Menu(menubar)\n",
    "editmenu = Menu(menubar)\n",
    "helpmenu = Menu(menubar)\n",
    "\n",
    "menubar.add_cascade(label=\"BBDD\", menu=filemenu)\n",
    "menubar.add_cascade(label=\"CONTA\", menu=editmenu)\n",
    "menubar.add_cascade(label=\"AYUDA\", menu=helpmenu)\n",
    "\n",
    "filemenu.add_command(label=\"Nuevo Proveedor\", command = new_proveedor)\n",
    "filemenu.add_command(label=\"Nuevo Cliente\", command = new_cliente)\n",
    "filemenu.add_command(label=\"Abrir BBDD Proveedores\", command = open_BBDD_proveedor)\n",
    "filemenu.add_command(label=\"Abrir BBDD Clientes\", command = open_BBDD_cliente)\n",
    "filemenu.add_separator()\n",
    "filemenu.add_command(label=\"Salir\", command=root.destroy)\n",
    "\n",
    "editmenu.add_command(label=\"Cuentas\")\n",
    "editmenu.add_command(label=\"Facturas\")\n",
    "editmenu.add_command(label=\"Contabilizar\")\n",
    "editmenu.add_command(label=\"Contabilizar en masa\")\n",
    "editmenu.add_command(label=\"Drag and Drop\")\n",
    "editmenu.add_command(label=\"Balances\")\n",
    "editmenu.add_command(label=\"Libros\")\n",
    "\n",
    "helpmenu.add_command(label=\"Ayuda\")\n",
    "helpmenu.add_separator()\n",
    "helpmenu.add_command(label=\"Acerca de...\")\n",
    "\n",
    "root.mainloop()"
   ]
  }
 ],
 "metadata": {
  "kernelspec": {
   "display_name": "Python 3",
   "language": "python",
   "name": "python3"
  },
  "language_info": {
   "codemirror_mode": {
    "name": "ipython",
    "version": 3
   },
   "file_extension": ".py",
   "mimetype": "text/x-python",
   "name": "python",
   "nbconvert_exporter": "python",
   "pygments_lexer": "ipython3",
   "version": "3.7.6"
  }
 },
 "nbformat": 4,
 "nbformat_minor": 4
}
